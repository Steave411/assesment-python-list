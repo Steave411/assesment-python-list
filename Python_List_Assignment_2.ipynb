{
 "cells": [
  {
   "cell_type": "markdown",
   "id": "db689fc2",
   "metadata": {
    "id": "db689fc2"
   },
   "source": [
    "### Question 1: Write a Python program to count the number of elements in a list without using len.\n",
    "\n",
    "\n",
    "- `sample input : `\n",
    "    - `var = [10,11,12,13]`\n",
    "- `sample output :`\n",
    "    - `result : 4`"
   ]
  },
  {
   "cell_type": "code",
   "execution_count": 5,
   "id": "c9ce9180",
   "metadata": {
    "id": "c9ce9180"
   },
   "outputs": [
    {
     "name": "stdout",
     "output_type": "stream",
     "text": [
      "length of the list :- 10\n"
     ]
    }
   ],
   "source": [
    "# Please write The solution Here for above question 1:\n",
    "\n",
    "def var(a):\n",
    "    var = [1,2,3]\n",
    "    total_count = 0\n",
    "    for i in a:\n",
    "        total_count +=1\n",
    "    print(f'length of the list :-',total_count)\n",
    "    \n",
    "var([1,2,3,4,5,6,7,8,9,1])\n"
   ]
  },
  {
   "cell_type": "markdown",
   "id": "46f069cc",
   "metadata": {
    "id": "46f069cc"
   },
   "source": [
    "### \n",
    "Question 2: Write a Python program to find the maximum and minimum values in a given list.\n",
    "\n",
    "- `sample input : `\n",
    "    - `var = [10,11,12,13,14,15]`\n",
    "- `sample output :`\n",
    "    - `result : max = 15 , min = 10`"
   ]
  },
  {
   "cell_type": "code",
   "execution_count": 195,
   "id": "2cde3dcc",
   "metadata": {
    "id": "2cde3dcc"
   },
   "outputs": [
    {
     "name": "stdout",
     "output_type": "stream",
     "text": [
      "min :- 1\n",
      "max :- 100\n"
     ]
    }
   ],
   "source": [
    "# Please write The solution Here for above question 2:-\n",
    "\n",
    "a = [1,10,20,30,40,50,60,70,80,90,100]\n",
    "a.sort()\n",
    "print(f'min :-',a[0])\n",
    "b = a[::-1]\n",
    "print(f'max :-',b[0])\n"
   ]
  },
  {
   "cell_type": "markdown",
   "id": "0f3a2ef5",
   "metadata": {
    "id": "0f3a2ef5"
   },
   "source": [
    "### Question 3: Write a Python program to remove the first occurrence of a specified element from a list.\n",
    "\n",
    "- `sample input : `\n",
    "    - `var = [1,2,3,4,2,5]`\n",
    "- `sample output :`\n",
    "    - `result : [1,3,4,2,5]`\n",
    "    "
   ]
  },
  {
   "cell_type": "code",
   "execution_count": 295,
   "id": "74b9f01a",
   "metadata": {
    "id": "74b9f01a"
   },
   "outputs": [
    {
     "name": "stdout",
     "output_type": "stream",
     "text": [
      "this is input :- [1, 2, 3, 4, 5, 4, 6]\n",
      "this is output :- [1, 2, 3, 5, 4, 6]\n"
     ]
    }
   ],
   "source": [
    "# Please write The solution Here for above question 3:\n",
    "\n",
    "a = [1,2,3,4,5,4,6]\n",
    "print(f'this is input :-',a)\n",
    "a.count(a.remove(4))\n",
    "print(f'this is output :- {a}')\n"
   ]
  },
  {
   "cell_type": "markdown",
   "id": "98e0fc60",
   "metadata": {
    "id": "98e0fc60"
   },
   "source": [
    "### Question 4: Write a Python program to find the average of all the elements in a list.\n",
    "\n",
    "\n",
    "- `sample input : `\n",
    "    - `var = [1,2,3,4,2,5]`\n",
    "- `sample output :`\n",
    "    - `result : 2.833 `"
   ]
  },
  {
   "cell_type": "code",
   "execution_count": 133,
   "id": "5ed30f02",
   "metadata": {
    "id": "5ed30f02"
   },
   "outputs": [
    {
     "name": "stdout",
     "output_type": "stream",
     "text": [
      "length of list :- 7\n",
      "sum of list :- 85\n",
      "avarage :- 12.142857142857142\n"
     ]
    }
   ],
   "source": [
    "# Please write The solution Here for above question 4:\n",
    "\n",
    "\n",
    "num = [10,11,12,13,14,15,10]       \n",
    "count_list = len(num)\n",
    "print(f'length of list :-',count_list)\n",
    "total_list = sum(num)\n",
    "print(f'sum of list :-',sum(num))   \n",
    "print(f'avarage :-',total_list/count_list)\n"
   ]
  },
  {
   "cell_type": "markdown",
   "id": "17eb44eb",
   "metadata": {
    "id": "17eb44eb"
   },
   "source": [
    "### Question 5: Write a Python program to check if a list is empty or not.\n",
    "\n",
    "- `sample input : `\n",
    "    - `var1 = [1,2]`\n",
    "- `sample output :`\n",
    "    - `result : Not empty`\n",
    "    \n",
    "- `sample input : `\n",
    "    - `var1 = []`\n",
    "- `sample output :`\n",
    "    - `result :empty`\n",
    "    "
   ]
  },
  {
   "cell_type": "code",
   "execution_count": 3,
   "id": "29f0e87e",
   "metadata": {
    "id": "29f0e87e"
   },
   "outputs": [
    {
     "name": "stdout",
     "output_type": "stream",
     "text": [
      " oops! list is empty\n"
     ]
    }
   ],
   "source": [
    "# Please write The solution Here for above question 5:\n",
    "\n",
    "var = []\n",
    "var_len = len(var)\n",
    "if var_len == 0:\n",
    "    print(' oops! list is empty')\n",
    "else:\n",
    "    print('list is not empty')\n"
   ]
  },
  {
   "cell_type": "markdown",
   "id": "fac17884",
   "metadata": {
    "id": "fac17884"
   },
   "source": [
    "### Question 6:  Write a Python program to find the index of a specified element in a list..\n",
    "\n",
    "- `sample input : `\n",
    "    - `var = [1,2,3,4,2,5]`\n",
    "- `sample output :`\n",
    "    - `result : 3 index is 2`"
   ]
  },
  {
   "cell_type": "code",
   "execution_count": 9,
   "id": "f4b33095",
   "metadata": {
    "id": "f4b33095"
   },
   "outputs": [
    {
     "name": "stdout",
     "output_type": "stream",
     "text": [
      "element:- 100  --> index of the element :- 9\n"
     ]
    }
   ],
   "source": [
    "# Please write The solution Here for above question 6:\n",
    "\n",
    "list = [10,20,30,40,50,60,70,80,90,100]\n",
    "def a(x):\n",
    "    for i in range(1):\n",
    "        print(f'element:-',x,f' --> index of the element :-',list.index(x))\n",
    "a(100)"
   ]
  },
  {
   "cell_type": "markdown",
   "id": "2170d6f4",
   "metadata": {
    "id": "2170d6f4"
   },
   "source": [
    "### Question 7: Write a Python program to find which number is palindrome in below given list .\n",
    "\n",
    "- `sample input : `\n",
    "    - `var = [134,121,155]`\n",
    "- `sample output :`\n",
    "    - `result : 134 is not a palindome , 121 is a palindrome `\n",
    "      "
   ]
  },
  {
   "cell_type": "code",
   "execution_count": 191,
   "id": "f35de8b3",
   "metadata": {
    "id": "f35de8b3"
   },
   "outputs": [],
   "source": [
    "# Please write The solution Here for above question 7:\n",
    "\n",
    "pass\n"
   ]
  },
  {
   "cell_type": "markdown",
   "id": "f349bdb7",
   "metadata": {
    "id": "f349bdb7"
   },
   "source": [
    "### Question 8: Write a Python program to find the common elements between two lists.\n",
    "\n",
    "- `sample input : `\n",
    "    - `var1 = [1,2,3,4,10]`\n",
    "    - `var2 = [10,11,12,14]`\n",
    "- `sample output :`\n",
    "    - `result : 10`"
   ]
  },
  {
   "cell_type": "code",
   "execution_count": 61,
   "id": "a1b4c4e6",
   "metadata": {
    "id": "a1b4c4e6"
   },
   "outputs": [
    {
     "name": "stdout",
     "output_type": "stream",
     "text": [
      "common elements :- [10, 12, 12, 15]\n"
     ]
    }
   ],
   "source": [
    "# Please write The solution Here for above question 8:\n",
    "\n",
    "def vars(var1,var2):\n",
    "    var1 = [19,10,12,14,20,12,15]\n",
    "    var2 = [10,12,21,18,17,22,15]\n",
    "    lst = []\n",
    "    for i in var1:\n",
    "        if i in var2:\n",
    "            lst.append(i)\n",
    "    return lst\n",
    "var3 = vars(var1,var2)\n",
    "print(f'common elements :-',var3)\n"
   ]
  },
  {
   "cell_type": "markdown",
   "id": "d2770696",
   "metadata": {
    "id": "d2770696"
   },
   "source": [
    "### Question 9: Write a Python program to remove the duplicates from a list\n",
    "\n",
    "- `sample input : `\n",
    "    - `var = [10,11,12,10,12,24]`\n",
    "- `sample output :`\n",
    "    - `result : [10,11,12,24]`"
   ]
  },
  {
   "cell_type": "code",
   "execution_count": 123,
   "id": "7fdc2e9c",
   "metadata": {
    "id": "7fdc2e9c"
   },
   "outputs": [
    {
     "name": "stdout",
     "output_type": "stream",
     "text": [
      "filtered list :- [{1, 2, 3, 4, 5, 6, 7, 8, 9, 10}]\n"
     ]
    }
   ],
   "source": [
    "# Please write The solution Here for above question 9:\n",
    "\n",
    "def var(x):\n",
    "    variable = x\n",
    "    variable = [{1,2,2,1,3,4,5}]\n",
    "    print(f'filtered list :-',x)\n",
    "\n",
    "var([{1,1,2,2,3,3,4,4,5,5,6,6,7,7,8,8,9,9,10}])\n"
   ]
  },
  {
   "cell_type": "markdown",
   "id": "5c9a3f09",
   "metadata": {
    "id": "5c9a3f09"
   },
   "source": [
    "### Question 10:  Write a Python program to sort a list of strings in Ascii Order [Ascending order]\n",
    "\n",
    "\n",
    "- `sample input : `\n",
    "    - `var = ['a' , 'c' , 'b']`\n",
    "- `sample output :`\n",
    "    - `result : ['a' , 'b' , 'c']`\n"
   ]
  },
  {
   "cell_type": "code",
   "execution_count": 293,
   "id": "57c0c30e",
   "metadata": {
    "id": "57c0c30e"
   },
   "outputs": [
    {
     "name": "stdout",
     "output_type": "stream",
     "text": [
      "output :- ['a', 'b', 'c', 'd', 'g', 'm', 's', 'z']\n",
      "\n",
      "for ascii :-\n",
      "\n",
      "ascci for -- a --> 97\n",
      "ascci for -- b --> 98\n",
      "ascci for -- c --> 99\n",
      "ascci for -- d --> 100\n",
      "ascci for -- g --> 103\n",
      "ascci for -- m --> 109\n",
      "ascci for -- s --> 115\n",
      "ascci for -- z --> 122\n"
     ]
    }
   ],
   "source": [
    "# Please write The solution Here for above question 10:\n",
    "\n",
    "var = ['a','d','m','s','z','g','b','c']\n",
    "var.sort()\n",
    "print(f'output :-',var)\n",
    "print()\n",
    "print(f'for ascii :-')\n",
    "print()\n",
    "for i in var:\n",
    "    print(f'ascci for -- {i} -->',ord(i))"
   ]
  },
  {
   "cell_type": "code",
   "execution_count": null,
   "id": "9a7343fe-7eb4-4657-9a96-b5816f58a732",
   "metadata": {},
   "outputs": [],
   "source": []
  }
 ],
 "metadata": {
  "colab": {
   "provenance": []
  },
  "kernelspec": {
   "display_name": "Python 3 (ipykernel)",
   "language": "python",
   "name": "python3"
  },
  "language_info": {
   "codemirror_mode": {
    "name": "ipython",
    "version": 3
   },
   "file_extension": ".py",
   "mimetype": "text/x-python",
   "name": "python",
   "nbconvert_exporter": "python",
   "pygments_lexer": "ipython3",
   "version": "3.12.4"
  }
 },
 "nbformat": 4,
 "nbformat_minor": 5
}
